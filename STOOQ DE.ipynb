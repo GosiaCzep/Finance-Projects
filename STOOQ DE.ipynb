{
 "cells": [
  {
   "cell_type": "markdown",
   "metadata": {},
   "source": [
    "# STOOQ DE\n",
    "___"
   ]
  },
  {
   "cell_type": "markdown",
   "metadata": {},
   "source": [
    "## Introduction and Dataset Overview"
   ]
  },
  {
   "cell_type": "markdown",
   "metadata": {},
   "source": [
    "In this data project I will focus on exploratory data analysis of stock prices. The data used in the project comes from [Stooq](https://stooq.pl/), stock exchange portal.\n",
    "\n",
    "The goal of the following project is to create interesting visualizations and find patterns in stock prices. There are just German companies considered. The stock prices in our dataset encompass years 1993-2020.\n",
    "\n",
    "To start the whole analyse process we will first of all import all the necessary libraries as well as open the csv file contining our dataset. What is more, we will explore the dataset to get more familiar with it. We can print the first row formatted as a table using DataFrame.iloc[]. Other usufull techniques will include DataFrame.head(), DataFrame.tail(), DataFrame.dropna()."
   ]
  },
  {
   "cell_type": "code",
   "execution_count": 1,
   "metadata": {},
   "outputs": [
    {
     "name": "stdout",
     "output_type": "stream",
     "text": [
      "<TICKER>                  SNG.DE\n",
      "<PER>                          D\n",
      "<DATE>       2000-05-02 00:00:00\n",
      "<TIME>                         0\n",
      "<OPEN>                   20697.6\n",
      "<HIGH>                     22064\n",
      "<LOW>                    20091.2\n",
      "<CLOSE>                    22064\n",
      "<VOL>                        625\n",
      "<OPENINT>                      0\n",
      "Name: 0, dtype: object\n",
      "  <TICKER> <PER>               <DATE>  <TIME>   <OPEN>   <HIGH>    <LOW>  \\\n",
      "0   SNG.DE     D  2000-05-02 00:00:00       0  20697.6  22064.0  20091.2   \n",
      "1   SNG.DE     D  2000-05-03 00:00:00       0  20713.6  20852.8  19640.0   \n",
      "2   SNG.DE     D  2000-05-05 00:00:00       0  20560.0  21771.2  20254.4   \n",
      "3   SNG.DE     D  2000-05-04 00:00:00       0  20254.4  20849.6  19809.6   \n",
      "4   SNG.DE     D  2000-05-16 00:00:00       0  19793.6  19947.2  19516.8   \n",
      "\n",
      "   <CLOSE>  <VOL>  <OPENINT>  \n",
      "0  22064.0    625          0  \n",
      "1  20592.0    365          0  \n",
      "2  20254.4    549          0  \n",
      "3  20100.8    301          0  \n",
      "4  19716.8     83          0  \n",
      "      <TICKER> <PER>               <DATE>  <TIME>  <OPEN>  <HIGH>   <LOW>  \\\n",
      "29994  MUV2.DE     D  2015-05-11 00:00:00       0  138.81  139.01  137.90   \n",
      "29995   RAA.DE     D  2011-10-07 00:00:00       0  136.20  139.39  136.20   \n",
      "29996   RAA.DE     D  2011-10-25 00:00:00       0  139.34  139.52  136.17   \n",
      "29997   PFV.DE     D  2019-09-06 00:00:00       0  138.43  139.02  137.14   \n",
      "29998   VOW.DE     D  2013-05-15 00:00:00       0  136.85  138.44  136.54   \n",
      "\n",
      "       <CLOSE>   <VOL>  <OPENINT>  \n",
      "29994   138.34  837873          0  \n",
      "29995   138.34   11316          0  \n",
      "29996   138.34   12033          0  \n",
      "29997   138.33   12202          0  \n",
      "29998   138.33   80630          0  \n"
     ]
    }
   ],
   "source": [
    "# Importing libraries\n",
    "import pandas as pd\n",
    "import numpy as np\n",
    "import matplotlib.pyplot as plt\n",
    "%matplotlib inline\n",
    "\n",
    "# Reading in the data for our analysis\n",
    "stooq_de = pd.read_csv('finance_projects\\\\stooq_de.csv', encoding='ISO-8859-1', low_memory=False)\n",
    "\n",
    "# Getting familiar with our dataset\n",
    "print(stooq_de.iloc[0])\n",
    "print(stooq_de.head())\n",
    "print(stooq_de.tail())"
   ]
  },
  {
   "cell_type": "markdown",
   "metadata": {},
   "source": [
    "## Further Exploration and Modifications"
   ]
  },
  {
   "cell_type": "markdown",
   "metadata": {},
   "source": [
    "There are 10 columns in our dataset. First column (TICKER) indicates the company name, PER - D (day), volume (VOL), openint column etc.. We will modify the names of the columns to make them more readable using [camel case](https://medium.com/better-programming/string-case-styles-camel-pascal-snake-and-kebab-case-981407998841) style. We will remove `openint` column as we won't use it."
   ]
  },
  {
   "cell_type": "code",
   "execution_count": 2,
   "metadata": {},
   "outputs": [
    {
     "data": {
      "text/plain": [
       "Index(['companyTicker', 'per', 'date', 'time', 'openPrice', 'high', 'low',\n",
       "       'closePrice', 'volume'],\n",
       "      dtype='object')"
      ]
     },
     "execution_count": 2,
     "metadata": {},
     "output_type": "execute_result"
    }
   ],
   "source": [
    "# Renaming columns\n",
    "to_rename = {'<TICKER>': 'companyTicker', '<PER>': 'per', '<DATE>': 'date', '<TIME>': 'time', '<OPEN>': 'openPrice', '<HIGH>': 'high', '<LOW>': 'low', '<CLOSE>': 'closePrice', '<VOL>': 'volume'}\n",
    "stooq_de = stooq_de.rename(to_rename, axis=1)\n",
    "\n",
    "# Dropping column\n",
    "stooq_de.drop('<OPENINT>', axis='columns', inplace=True)\n",
    "\n",
    "# Exploring the updated columns\n",
    "stooq_de.columns"
   ]
  },
  {
   "cell_type": "markdown",
   "metadata": {},
   "source": [
    "Let's investigate what companies we have in our dataset and how often data related to that company appears in our dataset."
   ]
  },
  {
   "cell_type": "code",
   "execution_count": 3,
   "metadata": {},
   "outputs": [
    {
     "data": {
      "text/plain": [
       "SNG.DE     3806\n",
       "KSB3.DE    2889\n",
       "NSU.DE     2870\n",
       "RAA.DE     2304\n",
       "CBK.DE     2221\n",
       "KSB.DE     2103\n",
       "ALV.DE     2035\n",
       "MUV2.DE    1834\n",
       "VOW.DE     1652\n",
       "VOW3.DE    1249\n",
       "LIN.DE     1056\n",
       "ADS.DE     1004\n",
       "HYQ.DE      642\n",
       "MTX.DE      610\n",
       "ZO1.DE      482\n",
       "SRT3.DE     447\n",
       "SRT.DE      354\n",
       "PFV.DE      340\n",
       "WDI.DE      242\n",
       "HNR1.DE     229\n",
       "NWO.DE      212\n",
       "NC5A.DE     209\n",
       "WCH.DE      174\n",
       "M5Z.DE      165\n",
       "MDG1.DE     164\n",
       "DB1.DE      142\n",
       "YSN.DE      133\n",
       "ADV.DE      125\n",
       "BC8.DE       94\n",
       "HOT.DE       68\n",
       "KU2.DE       47\n",
       "AAD.DE       43\n",
       "HLAG.DE      14\n",
       "SZG.DE       12\n",
       "SAP.DE       11\n",
       "MGNK.DE       8\n",
       "LO24.DE       6\n",
       "WAF.DE        2\n",
       "AIR.DE        1\n",
       "Name: companyTicker, dtype: int64"
      ]
     },
     "execution_count": 3,
     "metadata": {},
     "output_type": "execute_result"
    }
   ],
   "source": [
    "# Finding companies\n",
    "stooq_de['companyTicker'].value_counts()"
   ]
  },
  {
   "cell_type": "markdown",
   "metadata": {},
   "source": [
    "The most frequently-occurring company in our dataset is [SNG.DE](https://stooq.pl/q/?s=sng.de)."
   ]
  },
  {
   "cell_type": "code",
   "execution_count": 4,
   "metadata": {},
   "outputs": [
    {
     "data": {
      "text/plain": [
       "'1993-11-18 00:00:00'"
      ]
     },
     "execution_count": 4,
     "metadata": {},
     "output_type": "execute_result"
    }
   ],
   "source": [
    "# Finding the minimum date in our dataset\n",
    "stooq_de['date'].min()"
   ]
  },
  {
   "cell_type": "markdown",
   "metadata": {},
   "source": [
    "The minimum date in our dataset comes from 18th November 1993."
   ]
  },
  {
   "cell_type": "code",
   "execution_count": 5,
   "metadata": {},
   "outputs": [
    {
     "data": {
      "text/plain": [
       "'2020-08-28 00:00:00'"
      ]
     },
     "execution_count": 5,
     "metadata": {},
     "output_type": "execute_result"
    }
   ],
   "source": [
    "# Finding the maximum date in our dataset\n",
    "stooq_de['date'].max()"
   ]
  },
  {
   "cell_type": "markdown",
   "metadata": {},
   "source": [
    "The earliest date in our dataset is 28th August 2020. Before we come to the next step in our analysis, we will prepare dates, choosing the right format for them."
   ]
  },
  {
   "cell_type": "code",
   "execution_count": 6,
   "metadata": {},
   "outputs": [],
   "source": [
    "# Converting date column to datetime\n",
    "stooq_de['date'] = pd.to_datetime(stooq_de['date'])"
   ]
  },
  {
   "cell_type": "code",
   "execution_count": 18,
   "metadata": {
    "scrolled": true
   },
   "outputs": [
    {
     "data": {
      "text/plain": [
       "0        05/2000\n",
       "1        05/2000\n",
       "2        05/2000\n",
       "3        05/2000\n",
       "4        05/2000\n",
       "5        05/2000\n",
       "6        05/2000\n",
       "7        03/2000\n",
       "8        04/2000\n",
       "9        05/2000\n",
       "10       05/2000\n",
       "11       05/2000\n",
       "12       05/2000\n",
       "13       04/2000\n",
       "14       03/2000\n",
       "15       03/2000\n",
       "16       06/2000\n",
       "17       04/2000\n",
       "18       04/2000\n",
       "19       03/2000\n",
       "20       05/2000\n",
       "21       03/2000\n",
       "22       03/2000\n",
       "23       03/2000\n",
       "24       03/2000\n",
       "25       03/2000\n",
       "26       02/2000\n",
       "27       03/2000\n",
       "28       03/2000\n",
       "29       06/2000\n",
       "          ...   \n",
       "29969    07/1998\n",
       "29970    07/2017\n",
       "29971    06/2018\n",
       "29972    06/1998\n",
       "29973    04/2011\n",
       "29974    03/2017\n",
       "29975    03/2019\n",
       "29976    03/2019\n",
       "29977    05/2020\n",
       "29978    05/2020\n",
       "29979    07/2020\n",
       "29980    02/2017\n",
       "29981    10/2017\n",
       "29982    04/2005\n",
       "29983    07/2019\n",
       "29984    02/2017\n",
       "29985    02/2017\n",
       "29986    11/2016\n",
       "29987    03/2017\n",
       "29988    12/2018\n",
       "29989    11/1999\n",
       "29990    04/2011\n",
       "29991    04/2017\n",
       "29992    03/2017\n",
       "29993    10/2015\n",
       "29994    05/2015\n",
       "29995    10/2011\n",
       "29996    10/2011\n",
       "29997    09/2019\n",
       "29998    05/2013\n",
       "Name: date, Length: 29999, dtype: object"
      ]
     },
     "execution_count": 18,
     "metadata": {},
     "output_type": "execute_result"
    }
   ],
   "source": [
    "# Applying month/year format\n",
    "stooq_de['date'].dt.strftime(\"%m/%Y\")"
   ]
  },
  {
   "cell_type": "markdown",
   "metadata": {},
   "source": [
    "## Maximum Close Price"
   ]
  },
  {
   "cell_type": "markdown",
   "metadata": {},
   "source": [
    "In this part of the project we will find the max Close price for each comapny's stock throughout the time period."
   ]
  },
  {
   "cell_type": "code",
   "execution_count": 8,
   "metadata": {},
   "outputs": [],
   "source": [
    "# Grouping companies and close price\n",
    "grouped = stooq_de.groupby('companyTicker')\n",
    "comp_grouped = grouped['closePrice']"
   ]
  },
  {
   "cell_type": "code",
   "execution_count": 9,
   "metadata": {
    "scrolled": true
   },
   "outputs": [
    {
     "data": {
      "text/plain": [
       "companyTicker\n",
       "SNG.DE     19965.311908\n",
       "NSU.DE       961.307631\n",
       "VOW.DE       602.920527\n",
       "NC5A.DE      363.499522\n",
       "RAA.DE       357.500382\n",
       "ADV.DE       323.056400\n",
       "HYQ.DE       266.894081\n",
       "KSB3.DE      212.231163\n",
       "MDG1.DE      197.942683\n",
       "KSB.DE       163.099320\n",
       "SRT3.DE      154.378300\n",
       "CBK.DE       124.321751\n",
       "ADS.DE       110.313526\n",
       "SRT.DE       108.525565\n",
       "ALV.DE       101.049199\n",
       "MTX.DE        94.505607\n",
       "YSN.DE        91.067218\n",
       "MUV2.DE       87.538757\n",
       "KU2.DE        71.122979\n",
       "VOW3.DE       70.291721\n",
       "LIN.DE        49.535000\n",
       "NWO.DE        48.924528\n",
       "M5Z.DE        46.101152\n",
       "ZO1.DE        41.536722\n",
       "WDI.DE        39.033802\n",
       "HNR1.DE       30.201310\n",
       "PFV.DE        26.743912\n",
       "HLAG.DE       25.604286\n",
       "LO24.DE       21.333333\n",
       "DB1.DE        17.377817\n",
       "WCH.DE        16.514943\n",
       "BC8.DE        15.553936\n",
       "AAD.DE         6.558140\n",
       "HOT.DE         6.171765\n",
       "MGNK.DE        4.535001\n",
       "SZG.DE         3.056667\n",
       "SAP.DE         1.923636\n",
       "WAF.DE         0.915000\n",
       "AIR.DE         0.000000\n",
       "Name: closePrice, dtype: float64"
      ]
     },
     "execution_count": 9,
     "metadata": {},
     "output_type": "execute_result"
    }
   ],
   "source": [
    "# Writing a function to find out the difference between the maximum and mean close price for each company \n",
    "def dif(group):\n",
    "    return (group.max() - group.mean())\n",
    "comp_mean_max = comp_grouped.agg([np.mean, np.max])\n",
    "mean_max_dif = comp_grouped.agg(dif)\n",
    "mean_max_dif.sort_values(ascending=False)"
   ]
  },
  {
   "cell_type": "markdown",
   "metadata": {},
   "source": [
    "The biggest difference between the maximum and mean close price has been observed in SNG.DE (over 19,965)."
   ]
  },
  {
   "cell_type": "code",
   "execution_count": 10,
   "metadata": {},
   "outputs": [
    {
     "data": {
      "text/html": [
       "<div>\n",
       "<style scoped>\n",
       "    .dataframe tbody tr th:only-of-type {\n",
       "        vertical-align: middle;\n",
       "    }\n",
       "\n",
       "    .dataframe tbody tr th {\n",
       "        vertical-align: top;\n",
       "    }\n",
       "\n",
       "    .dataframe thead th {\n",
       "        text-align: right;\n",
       "    }\n",
       "</style>\n",
       "<table border=\"1\" class=\"dataframe\">\n",
       "  <thead>\n",
       "    <tr style=\"text-align: right;\">\n",
       "      <th></th>\n",
       "      <th>time</th>\n",
       "      <th>openPrice</th>\n",
       "      <th>high</th>\n",
       "      <th>low</th>\n",
       "      <th>closePrice</th>\n",
       "      <th>volume</th>\n",
       "    </tr>\n",
       "  </thead>\n",
       "  <tbody>\n",
       "    <tr>\n",
       "      <th>count</th>\n",
       "      <td>3806.0</td>\n",
       "      <td>3806.00</td>\n",
       "      <td>3806.00</td>\n",
       "      <td>3806.00</td>\n",
       "      <td>3806.00</td>\n",
       "      <td>3806.00</td>\n",
       "    </tr>\n",
       "    <tr>\n",
       "      <th>mean</th>\n",
       "      <td>0.0</td>\n",
       "      <td>2105.94</td>\n",
       "      <td>2154.85</td>\n",
       "      <td>2042.32</td>\n",
       "      <td>2098.69</td>\n",
       "      <td>1160.42</td>\n",
       "    </tr>\n",
       "    <tr>\n",
       "      <th>std</th>\n",
       "      <td>0.0</td>\n",
       "      <td>2912.41</td>\n",
       "      <td>2997.99</td>\n",
       "      <td>2803.06</td>\n",
       "      <td>2903.97</td>\n",
       "      <td>1207.23</td>\n",
       "    </tr>\n",
       "    <tr>\n",
       "      <th>min</th>\n",
       "      <td>0.0</td>\n",
       "      <td>128.00</td>\n",
       "      <td>139.20</td>\n",
       "      <td>124.80</td>\n",
       "      <td>139.20</td>\n",
       "      <td>24.00</td>\n",
       "    </tr>\n",
       "    <tr>\n",
       "      <th>25%</th>\n",
       "      <td>0.0</td>\n",
       "      <td>400.00</td>\n",
       "      <td>411.20</td>\n",
       "      <td>390.40</td>\n",
       "      <td>398.40</td>\n",
       "      <td>488.00</td>\n",
       "    </tr>\n",
       "    <tr>\n",
       "      <th>50%</th>\n",
       "      <td>0.0</td>\n",
       "      <td>1467.20</td>\n",
       "      <td>1496.00</td>\n",
       "      <td>1440.00</td>\n",
       "      <td>1465.60</td>\n",
       "      <td>811.00</td>\n",
       "    </tr>\n",
       "    <tr>\n",
       "      <th>75%</th>\n",
       "      <td>0.0</td>\n",
       "      <td>2422.00</td>\n",
       "      <td>2460.40</td>\n",
       "      <td>2357.60</td>\n",
       "      <td>2409.60</td>\n",
       "      <td>1389.00</td>\n",
       "    </tr>\n",
       "    <tr>\n",
       "      <th>max</th>\n",
       "      <td>0.0</td>\n",
       "      <td>20713.60</td>\n",
       "      <td>22064.00</td>\n",
       "      <td>20254.40</td>\n",
       "      <td>22064.00</td>\n",
       "      <td>20187.00</td>\n",
       "    </tr>\n",
       "  </tbody>\n",
       "</table>\n",
       "</div>"
      ],
      "text/plain": [
       "         time  openPrice      high       low  closePrice    volume\n",
       "count  3806.0    3806.00   3806.00   3806.00     3806.00   3806.00\n",
       "mean      0.0    2105.94   2154.85   2042.32     2098.69   1160.42\n",
       "std       0.0    2912.41   2997.99   2803.06     2903.97   1207.23\n",
       "min       0.0     128.00    139.20    124.80      139.20     24.00\n",
       "25%       0.0     400.00    411.20    390.40      398.40    488.00\n",
       "50%       0.0    1467.20   1496.00   1440.00     1465.60    811.00\n",
       "75%       0.0    2422.00   2460.40   2357.60     2409.60   1389.00\n",
       "max       0.0   20713.60  22064.00  20254.40    22064.00  20187.00"
      ]
     },
     "execution_count": 10,
     "metadata": {},
     "output_type": "execute_result"
    }
   ],
   "source": [
    "# Grouping the results by company\n",
    "sng = stooq_de[stooq_de['companyTicker'] == 'SNG.DE']\n",
    "sng_info = sng.describe().round(2)\n",
    "sng_info"
   ]
  },
  {
   "cell_type": "markdown",
   "metadata": {},
   "source": [
    "SNG.DE average openPrice is 2105.94, however the results much differ from mean (std = 2912.41). We can observe a similar tendency in the case of close price as well. The minimum close price is 124.80 EUR and maximum 22,064 EUR. We will visualize the results to get a better understanding."
   ]
  },
  {
   "cell_type": "markdown",
   "metadata": {},
   "source": [
    "## Visualizing Close Price in years 2000-2016"
   ]
  },
  {
   "cell_type": "markdown",
   "metadata": {},
   "source": [
    "In this part of the project we will look at how the close prices for the most common companies in our dataset changed over the years. We will start with SNG.DE."
   ]
  },
  {
   "cell_type": "code",
   "execution_count": 11,
   "metadata": {},
   "outputs": [],
   "source": [
    "# register the converters:\n",
    "from pandas.plotting import register_matplotlib_converters\n",
    "register_matplotlib_converters()"
   ]
  },
  {
   "cell_type": "code",
   "execution_count": 17,
   "metadata": {},
   "outputs": [],
   "source": [
    "# set whitegrid style\n",
    "import seaborn as sns\n",
    "sns.set_style('whitegrid')"
   ]
  },
  {
   "cell_type": "code",
   "execution_count": 13,
   "metadata": {},
   "outputs": [
    {
     "data": {
      "image/png": "[encoded data removed]",
      "text/plain": [
       "<Figure size 1080x1080 with 1 Axes>"
      ]
     },
     "metadata": {},
     "output_type": "display_data"
    }
   ],
   "source": [
    "# Plotting close price for SNG.DE\n",
    "fig = plt.figure(figsize=(15,15))\n",
    "time = sng['date']\n",
    "close = sng['closePrice']\n",
    "plt.plot(time, close, c='yellow', label='Close Price')\n",
    "plt.xticks(rotation=90)\n",
    "plt.xlabel(\"Time\")\n",
    "plt.ylabel(\"EUR\")\n",
    "plt.title(\"SNG.DE\")\n",
    "plt.legend(loc='upper left')\n",
    "plt.show()"
   ]
  },
  {
   "cell_type": "markdown",
   "metadata": {},
   "source": [
    "We can notice that the close price in SNG.DE was high in 2000 and then plunged year by year. It explains why prices differ so much from the mean value. Let's see how the close price was changing in KSB3.DE."
   ]
  },
  {
   "cell_type": "code",
   "execution_count": 14,
   "metadata": {},
   "outputs": [
    {
     "data": {
      "text/html": [
       "<div>\n",
       "<style scoped>\n",
       "    .dataframe tbody tr th:only-of-type {\n",
       "        vertical-align: middle;\n",
       "    }\n",
       "\n",
       "    .dataframe tbody tr th {\n",
       "        vertical-align: top;\n",
       "    }\n",
       "\n",
       "    .dataframe thead th {\n",
       "        text-align: right;\n",
       "    }\n",
       "</style>\n",
       "<table border=\"1\" class=\"dataframe\">\n",
       "  <thead>\n",
       "    <tr style=\"text-align: right;\">\n",
       "      <th></th>\n",
       "      <th>time</th>\n",
       "      <th>openPrice</th>\n",
       "      <th>high</th>\n",
       "      <th>low</th>\n",
       "      <th>closePrice</th>\n",
       "      <th>volume</th>\n",
       "    </tr>\n",
       "  </thead>\n",
       "  <tbody>\n",
       "    <tr>\n",
       "      <th>count</th>\n",
       "      <td>2889.0</td>\n",
       "      <td>2889.00</td>\n",
       "      <td>2889.00</td>\n",
       "      <td>2889.00</td>\n",
       "      <td>2889.00</td>\n",
       "      <td>2889.00</td>\n",
       "    </tr>\n",
       "    <tr>\n",
       "      <th>mean</th>\n",
       "      <td>0.0</td>\n",
       "      <td>364.37</td>\n",
       "      <td>371.36</td>\n",
       "      <td>359.96</td>\n",
       "      <td>365.98</td>\n",
       "      <td>993.60</td>\n",
       "    </tr>\n",
       "    <tr>\n",
       "      <th>std</th>\n",
       "      <td>0.0</td>\n",
       "      <td>74.72</td>\n",
       "      <td>76.74</td>\n",
       "      <td>74.53</td>\n",
       "      <td>76.15</td>\n",
       "      <td>1180.64</td>\n",
       "    </tr>\n",
       "    <tr>\n",
       "      <th>min</th>\n",
       "      <td>0.0</td>\n",
       "      <td>182.01</td>\n",
       "      <td>186.31</td>\n",
       "      <td>175.32</td>\n",
       "      <td>175.80</td>\n",
       "      <td>2.00</td>\n",
       "    </tr>\n",
       "    <tr>\n",
       "      <th>25%</th>\n",
       "      <td>0.0</td>\n",
       "      <td>313.22</td>\n",
       "      <td>317.32</td>\n",
       "      <td>308.79</td>\n",
       "      <td>313.32</td>\n",
       "      <td>362.00</td>\n",
       "    </tr>\n",
       "    <tr>\n",
       "      <th>50%</th>\n",
       "      <td>0.0</td>\n",
       "      <td>372.03</td>\n",
       "      <td>381.21</td>\n",
       "      <td>365.07</td>\n",
       "      <td>374.52</td>\n",
       "      <td>689.00</td>\n",
       "    </tr>\n",
       "    <tr>\n",
       "      <th>75%</th>\n",
       "      <td>0.0</td>\n",
       "      <td>407.78</td>\n",
       "      <td>417.86</td>\n",
       "      <td>403.49</td>\n",
       "      <td>413.31</td>\n",
       "      <td>1214.00</td>\n",
       "    </tr>\n",
       "    <tr>\n",
       "      <th>max</th>\n",
       "      <td>0.0</td>\n",
       "      <td>572.43</td>\n",
       "      <td>584.06</td>\n",
       "      <td>570.56</td>\n",
       "      <td>578.21</td>\n",
       "      <td>18514.00</td>\n",
       "    </tr>\n",
       "  </tbody>\n",
       "</table>\n",
       "</div>"
      ],
      "text/plain": [
       "         time  openPrice     high      low  closePrice    volume\n",
       "count  2889.0    2889.00  2889.00  2889.00     2889.00   2889.00\n",
       "mean      0.0     364.37   371.36   359.96      365.98    993.60\n",
       "std       0.0      74.72    76.74    74.53       76.15   1180.64\n",
       "min       0.0     182.01   186.31   175.32      175.80      2.00\n",
       "25%       0.0     313.22   317.32   308.79      313.32    362.00\n",
       "50%       0.0     372.03   381.21   365.07      374.52    689.00\n",
       "75%       0.0     407.78   417.86   403.49      413.31   1214.00\n",
       "max       0.0     572.43   584.06   570.56      578.21  18514.00"
      ]
     },
     "execution_count": 14,
     "metadata": {},
     "output_type": "execute_result"
    }
   ],
   "source": [
    "# Grouping the results by company\n",
    "ksb3 = stooq_de[stooq_de['companyTicker'] == 'KSB3.DE']\n",
    "ksb3_info = ksb3.describe().round(2)\n",
    "ksb3_info"
   ]
  },
  {
   "cell_type": "markdown",
   "metadata": {},
   "source": [
    "We can observe that in the case of KSB3.DE the close prices does not differ a lot from average (std is 76.15 USD while mean equals 365.98 USD). The minimum close price is 175.80 EUR and maximum 578.21 EUR. "
   ]
  },
  {
   "cell_type": "code",
   "execution_count": 15,
   "metadata": {},
   "outputs": [
    {
     "data": {
      "image/png": "[encoded data removed]",
      "text/plain": [
       "<Figure size 1080x1080 with 1 Axes>"
      ]
     },
     "metadata": {},
     "output_type": "display_data"
    }
   ],
   "source": [
    "# Plotting close price for KSB3.DE\n",
    "fig = plt.figure(figsize=(15,15))\n",
    "time = ksb3['date']\n",
    "close = ksb3['closePrice']\n",
    "plt.plot(time, close, c='blue', label='Close Price')\n",
    "plt.xticks(rotation=90)\n",
    "plt.xlabel(\"Time\")\n",
    "plt.ylabel(\"EUR\")\n",
    "plt.title(\"KSB3.DE\")\n",
    "plt.legend(loc='upper left')\n",
    "plt.show()"
   ]
  },
  {
   "cell_type": "markdown",
   "metadata": {},
   "source": [
    "What we can say about KSB3.DE is the fact that the company's close price is quite unstable. Until 2018 the close price was between 200 and 480 EUR. We can observe that the close price decreases and is lower in 2020 in comparison to the past."
   ]
  },
  {
   "cell_type": "code",
   "execution_count": 16,
   "metadata": {
    "scrolled": true
   },
   "outputs": [
    {
     "data": {
      "image/png": "[encoded data removed]",
      "text/plain": [
       "<Figure size 1080x1080 with 1 Axes>"
      ]
     },
     "metadata": {},
     "output_type": "display_data"
    }
   ],
   "source": [
    "# Grouping the results by company\n",
    "nsu = stooq_de[stooq_de['companyTicker'] == 'NSU.DE']\n",
    "# Plotting close price for NSU.DE\n",
    "fig = plt.figure(figsize=(15,15))\n",
    "time = nsu['date']\n",
    "close = nsu['closePrice']\n",
    "plt.plot(time, close, c='green', label='Close Price')\n",
    "plt.xticks(rotation=90)\n",
    "plt.xlabel(\"Time\")\n",
    "plt.ylabel(\"EUR\")\n",
    "plt.title(\"NSU.DE\")\n",
    "plt.legend(loc='upper left')\n",
    "plt.show()"
   ]
  },
  {
   "cell_type": "markdown",
   "metadata": {},
   "source": [
    "In NSU.DE the close price keeps climbing. We can observe a steady growth in years 2010-2020 until the soar in 2020. By the way - NSU.DE is AUDI AG find out more [here](https://finance.yahoo.com/quote/NSU.DE/?guccounter=1&guce_referrer=aHR0cHM6Ly93d3cuZ29vZ2xlLnBsLw&guce_referrer_sig=AQAAABP5OYFmxdhszIXQUeS4IOKxfYZIRu5qiKWA3XtAKbE39ubon-8SUQ8H6NyWDNnxJHRI-AUaDOhDSBh47vj-8_AWNnwNY_KuSpjOSKRz0vlq1MU8raGEp4ihEo6xbGkGzYmQZayHLg5q5ASAoVpl0DdSEmiPbRUObAZUxn1HVVQz)."
   ]
  },
  {
   "cell_type": "markdown",
   "metadata": {},
   "source": [
    "# Conclusion\n",
    "---\n"
   ]
  },
  {
   "cell_type": "markdown",
   "metadata": {},
   "source": [
    "The main idea of the project was to find interestng patterns and create visualizations in data coming from Stooq (stock exchange portal). \n",
    "\n",
    "We found out that the largest difference between maximum and mean close price was in SNG.DE. Interesting patterns were observed also for KSB3 and NSU.DE."
   ]
  }
 ],
 "metadata": {
  "kernelspec": {
   "display_name": "Python 3",
   "language": "python",
   "name": "python3"
  },
  "language_info": {
   "codemirror_mode": {
    "name": "ipython",
    "version": 3
   },
   "file_extension": ".py",
   "mimetype": "text/x-python",
   "name": "python",
   "nbconvert_exporter": "python",
   "pygments_lexer": "ipython3",
   "version": "3.7.3"
  }
 },
 "nbformat": 4,
 "nbformat_minor": 2
}
